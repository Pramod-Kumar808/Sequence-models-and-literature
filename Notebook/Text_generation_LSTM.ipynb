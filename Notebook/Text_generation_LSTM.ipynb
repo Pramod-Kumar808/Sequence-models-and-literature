{
  "nbformat": 4,
  "nbformat_minor": 0,
  "metadata": {
    "colab": {
      "name": "course3_text_generation_LSTM_ex.ipynb",
      "provenance": [],
      "collapsed_sections": []
    },
    "kernelspec": {
      "name": "python3",
      "display_name": "Python 3"
    },
    "language_info": {
      "name": "python"
    }
  },
  "cells": [
    {
      "cell_type": "code",
      "metadata": {
        "id": "m9Bzo0D29mj-"
      },
      "source": [
        "from tensorflow.keras.preprocessing.sequence import pad_sequences\n",
        "from tensorflow.keras.preprocessing.text import Tokenizer\n",
        "from tensorflow.keras.models import Sequential\n",
        "from tensorflow.keras.optimizers import Adam\n",
        "from tensorflow.keras import regularizers\n",
        "import matplotlib.pyplot as plt\n",
        "import tensorflow.keras.utils as ku \n",
        "import numpy as np \n",
        "import pandas as pd"
      ],
      "execution_count": null,
      "outputs": []
    },
    {
      "cell_type": "markdown",
      "metadata": {
        "id": "ti5Q5Xx9Qhxy"
      },
      "source": [
        "Definition of a plot function for training result visualization"
      ]
    },
    {
      "cell_type": "code",
      "metadata": {
        "id": "rVKoPUqJ_apr"
      },
      "source": [
        "def plot_results(history):\n",
        "    hist_df = pd.DataFrame(history.history)\n",
        "    hist_df.columns=[\"loss\", \"accuracy\", \"val_loss\", \"val_accuracy\"]\n",
        "    hist_df.index = np.arange(1, len(hist_df)+1)\n",
        "    \n",
        "    fig, axs = plt.subplots(nrows=2, sharex=True, figsize=(16, 10))\n",
        "    axs[0].plot(hist_df.val_accuracy, lw=3, label='Validation Accuracy')\n",
        "    axs[0].plot(hist_df.accuracy, lw=3, label='Training Accuracy')\n",
        "    axs[0].set_ylabel('Accuracy')\n",
        "    axs[0].set_xlabel('Epoch')\n",
        "    axs[0].grid()\n",
        "    axs[0].legend(loc=0)\n",
        "    axs[1].plot(hist_df.val_loss, lw=3, label='Validation Loss')\n",
        "    axs[1].plot(hist_df.loss, lw=3, label='Training Loss')\n",
        "    axs[1].set_ylabel('Loss')\n",
        "    axs[1].set_xlabel('Epoch')\n",
        "    axs[1].grid()\n",
        "    axs[1].legend(loc=0)\n",
        "    \n",
        "    plt.show()"
      ],
      "execution_count": null,
      "outputs": []
    },
    {
      "cell_type": "markdown",
      "metadata": {
        "id": "q61YBz5XQxmt"
      },
      "source": [
        "## Data preproccesing"
      ]
    },
    {
      "cell_type": "markdown",
      "metadata": {
        "id": "orUto5KgQ02i"
      },
      "source": [
        "We load a txt file containing Shakespeare sonnets"
      ]
    },
    {
      "cell_type": "code",
      "metadata": {
        "id": "yBPyDBnSEWm0"
      },
      "source": [
        "data = open('sonnets.txt').read()\n",
        "\n",
        "corpus = data.lower().split(\"\\n\")"
      ],
      "execution_count": null,
      "outputs": []
    },
    {
      "cell_type": "code",
      "metadata": {
        "colab": {
          "base_uri": "https://localhost:8080/"
        },
        "id": "ZM7_ViIGe0NW",
        "outputId": "9e9d2c4d-acb2-4fa0-e884-cc5497be5154"
      },
      "source": [
        "corpus[0:10]"
      ],
      "execution_count": null,
      "outputs": [
        {
          "output_type": "execute_result",
          "data": {
            "text/plain": [
              "['from fairest creatures we desire increase,',\n",
              " \"that thereby beauty's rose might never die,\",\n",
              " 'but as the riper should by time decease,',\n",
              " 'his tender heir might bear his memory:',\n",
              " 'but thou, contracted to thine own bright eyes,',\n",
              " \"feed'st thy light'st flame with self-substantial fuel,\",\n",
              " 'making a famine where abundance lies,',\n",
              " 'thyself thy foe, to thy sweet self too cruel.',\n",
              " \"thou that art now the world's fresh ornament\",\n",
              " 'and only herald to the gaudy spring,']"
            ]
          },
          "metadata": {
            "tags": []
          },
          "execution_count": 5
        }
      ]
    },
    {
      "cell_type": "markdown",
      "metadata": {
        "id": "3IAn1hV1Seoh"
      },
      "source": [
        "We need to transform each text sentence into token sequence."
      ]
    },
    {
      "cell_type": "markdown",
      "metadata": {
        "id": "oh9kumfjSqIF"
      },
      "source": [
        "Then we need to generate from each token sequence, several token subsequences in order to augment the dataset. **Remember** that we want to learn how to predict the next word of a sentence. A sentence of 5 words can so be used to generate 4 training sequences.\n",
        "\n",
        "e.g. the sentence \"*to be or not to be*\" can give the following training sequences: \n",
        "\n",
        "\"*to* **be**\"\n",
        "\n",
        "\"*to be* **or**\"\n",
        "\n",
        "\"*to be or* **not**\"\n",
        "\n",
        "\"*to be or not* **to**\"\n",
        "\n",
        "\"*to be or not to* **be**\""
      ]
    },
    {
      "cell_type": "code",
      "metadata": {
        "colab": {
          "base_uri": "https://localhost:8080/"
        },
        "id": "ERnYqucIr_kL",
        "outputId": "3a08ab0d-70f0-46cb-a8d3-61d439b71208"
      },
      "source": [
        "tokenizer = Tokenizer()\n",
        "\n",
        "# Question 1: use the preprocessing steps learned in course3_text_sequence_preprocessing_ex.ipynb to create the padded sequences needed to train the model\n",
        "# Hint: Be careful about the length you will use for the padding sequences AND about where you put the extra zero coming from the padding (at the beginning of the sequence or at the end)\n",
        "\n",
        "tokenizer.fit_on_texts(corpus)\n",
        "total_words = len(tokenizer.word_index) + 1\n",
        "\n",
        "sequences = []\n",
        "for i in corpus:\n",
        "\ttoken_list = tokenizer.texts_to_sequences([i])[0]\n",
        "\tfor j in range(len(token_list)):\n",
        "\t\ttoken_sequence = token_list[:j+1]\n",
        "\t\tsequences.append(token_sequence)\n",
        "\n",
        "\n",
        "# padding\n",
        "input_sequences = np.array(pad_sequences(sequences, padding='pre',maxlen=max([len(x) for x in sequences])))\n",
        "X = input_sequences[:,:-1],\n",
        "y_before = input_sequences[:,-1]\n",
        "print(\"featurs :\",X)\n",
        "print(\"target :\",y_before)\n",
        "\n",
        "y = ku.to_categorical(y_before, num_classes=total_words)\n",
        "print(y)"
      ],
      "execution_count": null,
      "outputs": [
        {
          "output_type": "stream",
          "text": [
            "featurs : (array([[   0,    0,    0, ...,    0,    0,    0],\n",
            "       [   0,    0,    0, ...,    0,    0,   34],\n",
            "       [   0,    0,    0, ...,    0,   34,  417],\n",
            "       ...,\n",
            "       [   0,    0,    0, ..., 3209,  493,  493],\n",
            "       [   0,    0,    0, ...,  493,  493, 3210],\n",
            "       [   0,    0,    0, ...,  493, 3210,   15]], dtype=int32),)\n",
            "target : [  34  417  877 ... 3210   15   14]\n",
            "[[0. 0. 0. ... 0. 0. 0.]\n",
            " [0. 0. 0. ... 0. 0. 0.]\n",
            " [0. 0. 0. ... 0. 0. 0.]\n",
            " ...\n",
            " [0. 0. 0. ... 0. 0. 1.]\n",
            " [0. 0. 0. ... 0. 0. 0.]\n",
            " [0. 0. 0. ... 0. 0. 0.]]\n"
          ],
          "name": "stdout"
        }
      ]
    },
    {
      "cell_type": "markdown",
      "metadata": {
        "id": "gXnkNk_3qhtw"
      },
      "source": [
        "## Neural network model definition"
      ]
    },
    {
      "cell_type": "markdown",
      "metadata": {
        "id": "tNktnNfFqi16"
      },
      "source": [
        "Build a neural network using at least one LSTM layer\n",
        "\n",
        "(you may have a look at https://keras.io/api/layers/)"
      ]
    },
    {
      "cell_type": "code",
      "metadata": {
        "id": "jxEWvq3yE3M1",
        "colab": {
          "base_uri": "https://localhost:8080/"
        },
        "outputId": "8f0aadc1-0f16-4fe7-f4e2-1e35cf966959"
      },
      "source": [
        "from tensorflow.keras.layers import Embedding, LSTM, Dense, Dropout, Bidirectional\n",
        "\n",
        "# Question 2: define a neural network model using at least one LSTM layer\n",
        "# Hint1: we advise you to use as first layer an Embedding layer (have a look at course3_sentiment_analysis_LSTM_ex.ipynb for a reminder of how to use it)\n",
        "# Hint2: you can import any additional layers from tensorflow.keras.layers if needed\n",
        "\n",
        "model = Sequential()\n",
        "model.add(Embedding(total_words, 100, input_length=max([len(x) for x in sequences])-1))\n",
        "model.add(Bidirectional(LSTM(150, return_sequences = True)))\n",
        "model.add(Dropout(0.2))\n",
        "model.add(LSTM(100))\n",
        "model.add(Dense(total_words,activation='relu', kernel_regularizer=regularizers.l2(0.01)))\n",
        "model.add(Dense(total_words/2, activation='relu', kernel_regularizer=regularizers.l2(0.01)))\n",
        "model.add(Dense(total_words, activation='softmax'))\n",
        "\n",
        "\n",
        "\n",
        "# Question 3: define a relevant loss function and optimizer\n",
        "\n",
        "loss_function = \"categorical_crossentropy\" #\"binary_crossentropy\"\n",
        "optimizer = \"adam\"\n",
        "\n",
        "model.compile(loss=loss_function, optimizer=optimizer,metrics=['accuracy'])\n",
        "\n",
        "print(model.summary())"
      ],
      "execution_count": null,
      "outputs": [
        {
          "output_type": "stream",
          "text": [
            "Model: \"sequential\"\n",
            "_________________________________________________________________\n",
            "Layer (type)                 Output Shape              Param #   \n",
            "=================================================================\n",
            "embedding (Embedding)        (None, 10, 100)           321100    \n",
            "_________________________________________________________________\n",
            "bidirectional (Bidirectional (None, 10, 300)           301200    \n",
            "_________________________________________________________________\n",
            "dropout (Dropout)            (None, 10, 300)           0         \n",
            "_________________________________________________________________\n",
            "lstm_1 (LSTM)                (None, 100)               160400    \n",
            "_________________________________________________________________\n",
            "dense (Dense)                (None, 3211)              324311    \n",
            "_________________________________________________________________\n",
            "dense_1 (Dense)              (None, 1605)              5155260   \n",
            "_________________________________________________________________\n",
            "dense_2 (Dense)              (None, 3211)              5156866   \n",
            "=================================================================\n",
            "Total params: 11,419,137\n",
            "Trainable params: 11,419,137\n",
            "Non-trainable params: 0\n",
            "_________________________________________________________________\n",
            "None\n"
          ],
          "name": "stdout"
        }
      ]
    },
    {
      "cell_type": "code",
      "metadata": {
        "id": "AhTePq5sE5TC",
        "colab": {
          "base_uri": "https://localhost:8080/"
        },
        "outputId": "2434c5f0-4f27-4ed0-9d88-751ab1504e09"
      },
      "source": [
        "# Question 4: train your model with relevant parameters\n",
        "\n",
        "predictors = X\n",
        "label = y\n",
        "epochs_value = 100\n",
        "validation_split_value = 0.4\n",
        "\n",
        "history = model.fit(predictors, label, epochs=epochs_value, verbose=1, validation_split=validation_split_value)"
      ],
      "execution_count": null,
      "outputs": [
        {
          "output_type": "stream",
          "text": [
            "Epoch 1/100\n",
            "331/331 [==============================] - 75s 211ms/step - loss: 7.4822 - accuracy: 0.0253 - val_loss: 6.7055 - val_accuracy: 0.0275\n",
            "Epoch 2/100\n",
            "331/331 [==============================] - 68s 207ms/step - loss: 6.3494 - accuracy: 0.0269 - val_loss: 6.7776 - val_accuracy: 0.0285\n",
            "Epoch 3/100\n",
            "331/331 [==============================] - 68s 207ms/step - loss: 6.2555 - accuracy: 0.0285 - val_loss: 6.8788 - val_accuracy: 0.0301\n",
            "Epoch 4/100\n",
            "331/331 [==============================] - 69s 207ms/step - loss: 6.1719 - accuracy: 0.0334 - val_loss: 6.9488 - val_accuracy: 0.0332\n",
            "Epoch 5/100\n",
            "331/331 [==============================] - 68s 206ms/step - loss: 6.0673 - accuracy: 0.0377 - val_loss: 7.0235 - val_accuracy: 0.0348\n",
            "Epoch 6/100\n",
            "331/331 [==============================] - 68s 206ms/step - loss: 5.9906 - accuracy: 0.0393 - val_loss: 7.2098 - val_accuracy: 0.0350\n",
            "Epoch 7/100\n",
            "331/331 [==============================] - 69s 210ms/step - loss: 5.9238 - accuracy: 0.0436 - val_loss: 7.2191 - val_accuracy: 0.0366\n",
            "Epoch 8/100\n",
            "331/331 [==============================] - 68s 206ms/step - loss: 5.8621 - accuracy: 0.0456 - val_loss: 7.3292 - val_accuracy: 0.0392\n",
            "Epoch 9/100\n",
            "331/331 [==============================] - 68s 206ms/step - loss: 5.8021 - accuracy: 0.0509 - val_loss: 7.4963 - val_accuracy: 0.0403\n",
            "Epoch 10/100\n",
            "331/331 [==============================] - 68s 206ms/step - loss: 5.7395 - accuracy: 0.0518 - val_loss: 7.4710 - val_accuracy: 0.0360\n",
            "Epoch 11/100\n",
            "331/331 [==============================] - 68s 207ms/step - loss: 5.6761 - accuracy: 0.0550 - val_loss: 7.6172 - val_accuracy: 0.0356\n",
            "Epoch 12/100\n",
            "331/331 [==============================] - 68s 207ms/step - loss: 5.6221 - accuracy: 0.0582 - val_loss: 7.8230 - val_accuracy: 0.0359\n",
            "Epoch 13/100\n",
            "331/331 [==============================] - 69s 207ms/step - loss: 5.5655 - accuracy: 0.0614 - val_loss: 7.9884 - val_accuracy: 0.0416\n",
            "Epoch 14/100\n",
            "331/331 [==============================] - 68s 206ms/step - loss: 5.5109 - accuracy: 0.0668 - val_loss: 8.0232 - val_accuracy: 0.0396\n",
            "Epoch 15/100\n",
            "331/331 [==============================] - 68s 205ms/step - loss: 5.4685 - accuracy: 0.0677 - val_loss: 8.1188 - val_accuracy: 0.0407\n",
            "Epoch 16/100\n",
            "331/331 [==============================] - 70s 211ms/step - loss: 5.4200 - accuracy: 0.0712 - val_loss: 8.2810 - val_accuracy: 0.0383\n",
            "Epoch 17/100\n",
            "331/331 [==============================] - 68s 205ms/step - loss: 5.3677 - accuracy: 0.0723 - val_loss: 8.3956 - val_accuracy: 0.0423\n",
            "Epoch 18/100\n",
            "331/331 [==============================] - 68s 206ms/step - loss: 5.3245 - accuracy: 0.0759 - val_loss: 8.3397 - val_accuracy: 0.0404\n",
            "Epoch 19/100\n",
            "331/331 [==============================] - 67s 203ms/step - loss: 5.2853 - accuracy: 0.0793 - val_loss: 8.6082 - val_accuracy: 0.0383\n",
            "Epoch 20/100\n",
            "331/331 [==============================] - 66s 201ms/step - loss: 5.2321 - accuracy: 0.0833 - val_loss: 8.7253 - val_accuracy: 0.0380\n",
            "Epoch 21/100\n",
            "331/331 [==============================] - 66s 201ms/step - loss: 5.1924 - accuracy: 0.0853 - val_loss: 8.7865 - val_accuracy: 0.0386\n",
            "Epoch 22/100\n",
            "331/331 [==============================] - 67s 201ms/step - loss: 5.1483 - accuracy: 0.0905 - val_loss: 8.9437 - val_accuracy: 0.0380\n",
            "Epoch 23/100\n",
            "331/331 [==============================] - 66s 201ms/step - loss: 5.1138 - accuracy: 0.0924 - val_loss: 9.2892 - val_accuracy: 0.0413\n",
            "Epoch 24/100\n",
            "331/331 [==============================] - 66s 200ms/step - loss: 5.0686 - accuracy: 0.0950 - val_loss: 9.0958 - val_accuracy: 0.0377\n",
            "Epoch 25/100\n",
            "331/331 [==============================] - 66s 200ms/step - loss: 5.0283 - accuracy: 0.0967 - val_loss: 9.2700 - val_accuracy: 0.0382\n",
            "Epoch 26/100\n",
            "331/331 [==============================] - 66s 201ms/step - loss: 4.9847 - accuracy: 0.1021 - val_loss: 9.5989 - val_accuracy: 0.0367\n",
            "Epoch 27/100\n",
            "331/331 [==============================] - 69s 208ms/step - loss: 4.9552 - accuracy: 0.1026 - val_loss: 9.6841 - val_accuracy: 0.0382\n",
            "Epoch 28/100\n",
            "331/331 [==============================] - 68s 205ms/step - loss: 4.9173 - accuracy: 0.1095 - val_loss: 9.7897 - val_accuracy: 0.0377\n",
            "Epoch 29/100\n",
            "331/331 [==============================] - 67s 201ms/step - loss: 4.8754 - accuracy: 0.1101 - val_loss: 9.9150 - val_accuracy: 0.0417\n",
            "Epoch 30/100\n",
            "331/331 [==============================] - 66s 200ms/step - loss: 4.8443 - accuracy: 0.1173 - val_loss: 9.9656 - val_accuracy: 0.0385\n",
            "Epoch 31/100\n",
            "331/331 [==============================] - 66s 200ms/step - loss: 4.8047 - accuracy: 0.1180 - val_loss: 10.1716 - val_accuracy: 0.0348\n",
            "Epoch 32/100\n",
            "331/331 [==============================] - 66s 200ms/step - loss: 4.7683 - accuracy: 0.1225 - val_loss: 10.4705 - val_accuracy: 0.0375\n",
            "Epoch 33/100\n",
            "331/331 [==============================] - 66s 201ms/step - loss: 4.7401 - accuracy: 0.1238 - val_loss: 10.4487 - val_accuracy: 0.0377\n",
            "Epoch 34/100\n",
            "331/331 [==============================] - 67s 202ms/step - loss: 4.7044 - accuracy: 0.1272 - val_loss: 10.5919 - val_accuracy: 0.0350\n",
            "Epoch 35/100\n",
            "331/331 [==============================] - 67s 203ms/step - loss: 4.6681 - accuracy: 0.1327 - val_loss: 10.8581 - val_accuracy: 0.0375\n",
            "Epoch 36/100\n",
            "331/331 [==============================] - 66s 200ms/step - loss: 4.6417 - accuracy: 0.1354 - val_loss: 10.7839 - val_accuracy: 0.0369\n",
            "Epoch 37/100\n",
            "331/331 [==============================] - 66s 200ms/step - loss: 4.6050 - accuracy: 0.1342 - val_loss: 10.9916 - val_accuracy: 0.0331\n",
            "Epoch 38/100\n",
            "331/331 [==============================] - 66s 200ms/step - loss: 4.5673 - accuracy: 0.1385 - val_loss: 11.2195 - val_accuracy: 0.0360\n",
            "Epoch 39/100\n",
            "331/331 [==============================] - 68s 205ms/step - loss: 4.5180 - accuracy: 0.1432 - val_loss: 11.2150 - val_accuracy: 0.0315\n",
            "Epoch 40/100\n",
            "331/331 [==============================] - 68s 206ms/step - loss: 4.4865 - accuracy: 0.1465 - val_loss: 11.4334 - val_accuracy: 0.0333\n",
            "Epoch 41/100\n",
            "331/331 [==============================] - 69s 208ms/step - loss: 4.4463 - accuracy: 0.1501 - val_loss: 11.7150 - val_accuracy: 0.0343\n",
            "Epoch 42/100\n",
            "331/331 [==============================] - 69s 210ms/step - loss: 4.4067 - accuracy: 0.1580 - val_loss: 11.7556 - val_accuracy: 0.0329\n",
            "Epoch 43/100\n",
            "331/331 [==============================] - 68s 206ms/step - loss: 4.3752 - accuracy: 0.1582 - val_loss: 11.9520 - val_accuracy: 0.0348\n",
            "Epoch 44/100\n",
            "331/331 [==============================] - 68s 205ms/step - loss: 4.3428 - accuracy: 0.1622 - val_loss: 12.2486 - val_accuracy: 0.0311\n",
            "Epoch 45/100\n",
            "331/331 [==============================] - 68s 205ms/step - loss: 4.3038 - accuracy: 0.1661 - val_loss: 12.4058 - val_accuracy: 0.0316\n",
            "Epoch 46/100\n",
            "331/331 [==============================] - 69s 207ms/step - loss: 4.2671 - accuracy: 0.1703 - val_loss: 12.5188 - val_accuracy: 0.0321\n",
            "Epoch 47/100\n",
            "331/331 [==============================] - 67s 204ms/step - loss: 4.2082 - accuracy: 0.1775 - val_loss: 12.9371 - val_accuracy: 0.0346\n",
            "Epoch 48/100\n",
            "331/331 [==============================] - 68s 205ms/step - loss: 4.1842 - accuracy: 0.1807 - val_loss: 13.1783 - val_accuracy: 0.0332\n",
            "Epoch 49/100\n",
            "331/331 [==============================] - 69s 207ms/step - loss: 4.1590 - accuracy: 0.1809 - val_loss: 13.3147 - val_accuracy: 0.0312\n",
            "Epoch 50/100\n",
            "331/331 [==============================] - 76s 230ms/step - loss: 4.1306 - accuracy: 0.1882 - val_loss: 13.3739 - val_accuracy: 0.0302\n",
            "Epoch 51/100\n",
            "331/331 [==============================] - 74s 225ms/step - loss: 4.0869 - accuracy: 0.1903 - val_loss: 13.5423 - val_accuracy: 0.0325\n",
            "Epoch 52/100\n",
            "331/331 [==============================] - 80s 243ms/step - loss: 4.0481 - accuracy: 0.1962 - val_loss: 13.7242 - val_accuracy: 0.0297\n",
            "Epoch 53/100\n",
            "331/331 [==============================] - 74s 225ms/step - loss: 3.9940 - accuracy: 0.2051 - val_loss: 14.0070 - val_accuracy: 0.0294\n",
            "Epoch 54/100\n",
            "331/331 [==============================] - 74s 223ms/step - loss: 3.9704 - accuracy: 0.2108 - val_loss: 14.4673 - val_accuracy: 0.0314\n",
            "Epoch 55/100\n",
            "331/331 [==============================] - 74s 223ms/step - loss: 3.9348 - accuracy: 0.2130 - val_loss: 14.4471 - val_accuracy: 0.0316\n",
            "Epoch 56/100\n",
            "331/331 [==============================] - 72s 218ms/step - loss: 3.9018 - accuracy: 0.2160 - val_loss: 14.7212 - val_accuracy: 0.0331\n",
            "Epoch 57/100\n",
            "331/331 [==============================] - 70s 212ms/step - loss: 3.8694 - accuracy: 0.2223 - val_loss: 14.9172 - val_accuracy: 0.0297\n",
            "Epoch 58/100\n",
            "331/331 [==============================] - 68s 205ms/step - loss: 3.8253 - accuracy: 0.2253 - val_loss: 15.1525 - val_accuracy: 0.0311\n",
            "Epoch 59/100\n",
            "331/331 [==============================] - 68s 206ms/step - loss: 3.7960 - accuracy: 0.2344 - val_loss: 15.3692 - val_accuracy: 0.0309\n",
            "Epoch 60/100\n",
            "331/331 [==============================] - 68s 205ms/step - loss: 3.7704 - accuracy: 0.2358 - val_loss: 15.6635 - val_accuracy: 0.0315\n",
            "Epoch 61/100\n",
            "331/331 [==============================] - 68s 205ms/step - loss: 3.7284 - accuracy: 0.2468 - val_loss: 15.9141 - val_accuracy: 0.0331\n",
            "Epoch 62/100\n",
            "331/331 [==============================] - 68s 205ms/step - loss: 3.6887 - accuracy: 0.2512 - val_loss: 16.0668 - val_accuracy: 0.0312\n",
            "Epoch 63/100\n",
            "331/331 [==============================] - 68s 206ms/step - loss: 3.6576 - accuracy: 0.2549 - val_loss: 16.6654 - val_accuracy: 0.0322\n",
            "Epoch 64/100\n",
            "331/331 [==============================] - 68s 206ms/step - loss: 3.6349 - accuracy: 0.2573 - val_loss: 16.1795 - val_accuracy: 0.0311\n",
            "Epoch 65/100\n",
            "331/331 [==============================] - 69s 208ms/step - loss: 3.5995 - accuracy: 0.2647 - val_loss: 16.7060 - val_accuracy: 0.0302\n",
            "Epoch 66/100\n",
            "331/331 [==============================] - 70s 210ms/step - loss: 3.5634 - accuracy: 0.2696 - val_loss: 17.0363 - val_accuracy: 0.0328\n",
            "Epoch 67/100\n",
            "331/331 [==============================] - 68s 205ms/step - loss: 3.5372 - accuracy: 0.2731 - val_loss: 17.1859 - val_accuracy: 0.0311\n",
            "Epoch 68/100\n",
            "331/331 [==============================] - 68s 206ms/step - loss: 3.5106 - accuracy: 0.2764 - val_loss: 17.5109 - val_accuracy: 0.0311\n",
            "Epoch 69/100\n",
            "331/331 [==============================] - 69s 208ms/step - loss: 3.4637 - accuracy: 0.2872 - val_loss: 17.5618 - val_accuracy: 0.0312\n",
            "Epoch 70/100\n",
            "331/331 [==============================] - 69s 210ms/step - loss: 3.4463 - accuracy: 0.2894 - val_loss: 17.5549 - val_accuracy: 0.0304\n",
            "Epoch 71/100\n",
            "331/331 [==============================] - 69s 208ms/step - loss: 3.4108 - accuracy: 0.2968 - val_loss: 18.0705 - val_accuracy: 0.0316\n",
            "Epoch 72/100\n",
            "331/331 [==============================] - 68s 206ms/step - loss: 3.3823 - accuracy: 0.2982 - val_loss: 18.2113 - val_accuracy: 0.0312\n",
            "Epoch 73/100\n",
            "331/331 [==============================] - 68s 206ms/step - loss: 3.3723 - accuracy: 0.3032 - val_loss: 18.3744 - val_accuracy: 0.0304\n",
            "Epoch 74/100\n",
            "331/331 [==============================] - 68s 205ms/step - loss: 3.3413 - accuracy: 0.3082 - val_loss: 18.5570 - val_accuracy: 0.0275\n",
            "Epoch 75/100\n",
            "331/331 [==============================] - 68s 205ms/step - loss: 3.3077 - accuracy: 0.3158 - val_loss: 18.6726 - val_accuracy: 0.0289\n",
            "Epoch 76/100\n",
            "331/331 [==============================] - 68s 205ms/step - loss: 3.2718 - accuracy: 0.3202 - val_loss: 19.4325 - val_accuracy: 0.0305\n",
            "Epoch 77/100\n",
            "331/331 [==============================] - 68s 207ms/step - loss: 3.2452 - accuracy: 0.3273 - val_loss: 19.3823 - val_accuracy: 0.0292\n",
            "Epoch 78/100\n",
            "331/331 [==============================] - 68s 207ms/step - loss: 3.2090 - accuracy: 0.3344 - val_loss: 19.5578 - val_accuracy: 0.0315\n",
            "Epoch 79/100\n",
            "331/331 [==============================] - 68s 207ms/step - loss: 3.1890 - accuracy: 0.3384 - val_loss: 19.3936 - val_accuracy: 0.0299\n",
            "Epoch 80/100\n",
            "331/331 [==============================] - 68s 206ms/step - loss: 3.1631 - accuracy: 0.3400 - val_loss: 19.8248 - val_accuracy: 0.0319\n",
            "Epoch 81/100\n",
            "331/331 [==============================] - 68s 207ms/step - loss: 3.1354 - accuracy: 0.3498 - val_loss: 19.8245 - val_accuracy: 0.0316\n",
            "Epoch 82/100\n",
            "331/331 [==============================] - 68s 205ms/step - loss: 3.1050 - accuracy: 0.3486 - val_loss: 20.1387 - val_accuracy: 0.0299\n",
            "Epoch 83/100\n",
            "331/331 [==============================] - 68s 205ms/step - loss: 3.0777 - accuracy: 0.3603 - val_loss: 20.6160 - val_accuracy: 0.0322\n",
            "Epoch 84/100\n",
            "331/331 [==============================] - 68s 206ms/step - loss: 3.0490 - accuracy: 0.3657 - val_loss: 20.8524 - val_accuracy: 0.0288\n",
            "Epoch 85/100\n",
            "331/331 [==============================] - 68s 206ms/step - loss: 3.0218 - accuracy: 0.3686 - val_loss: 20.7292 - val_accuracy: 0.0306\n",
            "Epoch 86/100\n",
            "331/331 [==============================] - 68s 205ms/step - loss: 3.0023 - accuracy: 0.3728 - val_loss: 20.8907 - val_accuracy: 0.0306\n",
            "Epoch 87/100\n",
            "331/331 [==============================] - 68s 205ms/step - loss: 2.9888 - accuracy: 0.3793 - val_loss: 21.1694 - val_accuracy: 0.0304\n",
            "Epoch 88/100\n",
            "331/331 [==============================] - 68s 205ms/step - loss: 2.9817 - accuracy: 0.3738 - val_loss: 21.3364 - val_accuracy: 0.0297\n",
            "Epoch 89/100\n",
            "331/331 [==============================] - 68s 205ms/step - loss: 2.9513 - accuracy: 0.3795 - val_loss: 21.3024 - val_accuracy: 0.0306\n",
            "Epoch 90/100\n",
            "331/331 [==============================] - 68s 205ms/step - loss: 2.9177 - accuracy: 0.3896 - val_loss: 21.6797 - val_accuracy: 0.0312\n",
            "Epoch 91/100\n",
            "331/331 [==============================] - 68s 206ms/step - loss: 2.9095 - accuracy: 0.3974 - val_loss: 21.4995 - val_accuracy: 0.0299\n",
            "Epoch 92/100\n",
            "331/331 [==============================] - 68s 206ms/step - loss: 2.8801 - accuracy: 0.3992 - val_loss: 21.8936 - val_accuracy: 0.0275\n",
            "Epoch 93/100\n",
            "331/331 [==============================] - 69s 208ms/step - loss: 2.8659 - accuracy: 0.4040 - val_loss: 21.6960 - val_accuracy: 0.0284\n",
            "Epoch 94/100\n",
            " 75/331 [=====>........................] - ETA: 47s - loss: 2.7491 - accuracy: 0.4279"
          ],
          "name": "stdout"
        }
      ]
    },
    {
      "cell_type": "markdown",
      "metadata": {
        "id": "ZAASHMx76TgY"
      },
      "source": [
        "## Result visualization"
      ]
    },
    {
      "cell_type": "code",
      "metadata": {
        "id": "pgKycPomE_Dc",
        "colab": {
          "base_uri": "https://localhost:8080/",
          "height": 606
        },
        "outputId": "37908127-2322-408d-8e18-48319282a659"
      },
      "source": [
        "plot_results(history)"
      ],
      "execution_count": null,
      "outputs": [
        {
          "output_type": "display_data",
          "data": {
            "image/png": "[encoded data removed]",
            "text/plain": [
              "<Figure size 1152x720 with 2 Axes>"
            ]
          },
          "metadata": {
            "tags": [],
            "needs_background": "light"
          }
        }
      ]
    },
    {
      "cell_type": "markdown",
      "metadata": {
        "id": "HbWmhe3Jr5Zz"
      },
      "source": [
        "## Text generation"
      ]
    },
    {
      "cell_type": "markdown",
      "metadata": {
        "id": "o0SXL2-Yr7o_"
      },
      "source": [
        "You can now use your model to sequentially generate new words from a given uncomplete sentence"
      ]
    },
    {
      "cell_type": "code",
      "metadata": {
        "id": "h9i3YkKWF4w0",
        "colab": {
          "base_uri": "https://localhost:8080/"
        },
        "outputId": "57a174f7-e135-4dd6-9dca-391e2b8159a8"
      },
      "source": [
        "seed_text = \"put here the of a of your own days brow this make make every make\"\n",
        "nb_additional_words = 100\n",
        "\n",
        "\n",
        "# Question 5: generate nb_additional_words at the end of seed_text according to your trained model\n",
        "\n",
        "for i in range(nb_additional_words):\n",
        "  token_list = tokenizer.texts_to_sequences([seed_text])[0]\n",
        "  token_list = pad_sequences([token_list], maxlen=max([len(x) for x in sequences])-1, padding='pre')\n",
        "  predicted = model.predict_classes(token_list, verbose=0)\n",
        "  output = \"\"\n",
        "  for word, index in tokenizer.word_index.items():\n",
        "    if index == predicted:\n",
        "      output = word\n",
        "      break\n",
        "  seed_text += \" \" + output\n",
        "print(seed_text)\n",
        "\n"
      ],
      "execution_count": null,
      "outputs": [
        {
          "output_type": "stream",
          "text": [
            "/usr/local/lib/python3.7/dist-packages/tensorflow/python/keras/engine/sequential.py:455: UserWarning: `model.predict_classes()` is deprecated and will be removed after 2021-01-01. Please use instead:* `np.argmax(model.predict(x), axis=-1)`,   if your model does multi-class classification   (e.g. if it uses a `softmax` last-layer activation).* `(model.predict(x) > 0.5).astype(\"int32\")`,   if your model does binary classification   (e.g. if it uses a `sigmoid` last-layer activation).\n",
            "  warnings.warn('`model.predict_classes()` is deprecated and '\n"
          ],
          "name": "stderr"
        },
        {
          "output_type": "stream",
          "text": [
            "put here the of a of your own days brow this make make every make every husband with desert his brood effect more gems rare mother sadly few lies delight more offence truth hath inconstant weeds held appear sea to first you sea and store he ill respect we see we see men's befits still of earth unless writ be removed my verse of held mother appear appear appear appear strange enrich a plea remembrance be measured no powerful thought should die check'd eye's slow slow go bright praise lies gazeth born more kind written star this deeds in youth full eye's audit in love's sovereign appear gone the world alone new another use thyself\n"
          ],
          "name": "stdout"
        }
      ]
    },
    {
      "cell_type": "code",
      "metadata": {
        "id": "4vbS9GMMhw0P"
      },
      "source": [
        ""
      ],
      "execution_count": null,
      "outputs": []
    }
  ]
}